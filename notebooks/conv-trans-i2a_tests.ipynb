{
 "cells": [
  {
   "cell_type": "code",
   "execution_count": 1,
   "metadata": {},
   "outputs": [],
   "source": [
    "import numpy as np\n",
    "import torch"
   ]
  },
  {
   "cell_type": "code",
   "execution_count": 2,
   "metadata": {},
   "outputs": [],
   "source": [
    "from torch import optim"
   ]
  },
  {
   "cell_type": "code",
   "execution_count": 3,
   "metadata": {},
   "outputs": [],
   "source": [
    "import matplotlib.pyplot as plt\n",
    "from IPython.display import clear_output"
   ]
  },
  {
   "cell_type": "code",
   "execution_count": 4,
   "metadata": {},
   "outputs": [],
   "source": [
    "from pred_learn.models import RecursiveConvTransition\n",
    "from pred_learn.data import ObservationDataset, ObservationSeriesDataset"
   ]
  },
  {
   "cell_type": "code",
   "execution_count": 5,
   "metadata": {},
   "outputs": [
    {
     "name": "stdout",
     "output_type": "stream",
     "text": [
      "pygame 1.9.4\n",
      "Hello from the pygame community. https://www.pygame.org/contribute.html\n",
      "couldn't import doomish\n",
      "Couldn't import doom\n"
     ]
    },
    {
     "name": "stderr",
     "output_type": "stream",
     "text": [
      "/home/ira/code/cool-code/gym/gym/envs/registration.py:56: UserWarning: DEPRECATION WARNING wrapper_config.TimeLimit has been deprecated. Replace any calls to `register(tags={'wrapper_config.TimeLimit.max_episode_steps': 200)}` with `register(max_episode_steps=200)`. This change was made 2017/1/31 and is included in gym version 0.8.0. If you are getting many of these warnings, you may need to update switch from universe 0.21.3 to retro (https://github.com/openai/retro)\n",
      "  warnings.warn(\"DEPRECATION WARNING wrapper_config.TimeLimit has been deprecated. Replace any calls to `register(tags={'wrapper_config.TimeLimit.max_episode_steps': 200)}` with `register(max_episode_steps=200)`. This change was made 2017/1/31 and is included in gym version 0.8.0. If you are getting many of these warnings, you may need to update switch from universe 0.21.3 to retro (https://github.com/openai/retro)\")\n"
     ]
    }
   ],
   "source": [
    "import gym_ple\n",
    "import gym_tetris"
   ]
  },
  {
   "cell_type": "code",
   "execution_count": 13,
   "metadata": {},
   "outputs": [],
   "source": [
    "ENV_ID = \"Catcher-ple-v0\"\n",
    "action_space_n = gym_ple.make(ENV_ID).action_space.n\n",
    "dataset_train = ObservationSeriesDataset(\"../recorded/{}/0.torch\".format(ENV_ID), action_space_n, series_length=8)\n",
    "dataset_single = ObservationDataset(\"../recorded/{}/0.torch\".format(ENV_ID), action_space_n)\n",
    "dataset_single.record = dataset_train.record\n",
    "\n",
    "train_loader = torch.utils.data.DataLoader(\n",
    "    dataset_train, batch_size=8, shuffle=True, num_workers=2\n",
    ")"
   ]
  },
  {
   "cell_type": "code",
   "execution_count": null,
   "metadata": {},
   "outputs": [
    {
     "data": {
      "image/png": "[encoded data removed]",
      "text/plain": [
       "<Figure size 864x864 with 3 Axes>"
      ]
     },
     "metadata": {},
     "output_type": "display_data"
    }
   ],
   "source": [
    "# replay record\n",
    "start = np.random.randint(1000)\n",
    "with torch.no_grad():\n",
    "    memory = None\n",
    "    for i in range(start, 1000):\n",
    "        timestep = dataset_single[i]\n",
    "        obs = timestep[\"s1\"]\n",
    "        action = timestep[\"a0\"]\n",
    "        terminal = timestep['terminal']        \n",
    "        \n",
    "        plt.figure(figsize=(12, 12))\n",
    "        plt.subplot(131)\n",
    "        plt.imshow(obs.permute([2,1,0]))\n",
    "    #     obs = resize(obs, (64, 64))\n",
    "        plt.subplot(132)\n",
    "        recon, memory, rew = model(timestep[\"s0\"].unsqueeze(0).cuda(), action.unsqueeze(0), memory)\n",
    "        memory[terminal.squeeze()==1 ,...] = 0\n",
    "        \n",
    "        recon = recon.squeeze(0).cpu()\n",
    "        plt.imshow(recon.permute([2,1,0]).clamp(0, 1))\n",
    "\n",
    "        plt.subplot(133)\n",
    "        diff = (recon - obs)**2\n",
    "        plt.imshow(diff.permute([2,1,0]).clamp(0, 1))\n",
    "        \n",
    "        \n",
    "    #     plt.imshow(timestep[\"s0\"])\n",
    "#         print(\"reward\", timestep['r1'])\n",
    "#         print(\"action\", timestep['a0'])\n",
    "        plt.pause(0.3)\n",
    "        clear_output(True)\n",
    "    "
   ]
  },
  {
   "cell_type": "code",
   "execution_count": 12,
   "metadata": {},
   "outputs": [
    {
     "data": {
      "image/png": "[encoded data removed]",
      "text/plain": [
       "<Figure size 864x864 with 3 Axes>"
      ]
     },
     "metadata": {},
     "output_type": "display_data"
    },
    {
     "ename": "KeyboardInterrupt",
     "evalue": "",
     "output_type": "error",
     "traceback": [
      "\u001b[0;31m---------------------------------------------------------------------------\u001b[0m",
      "\u001b[0;31mKeyboardInterrupt\u001b[0m                         Traceback (most recent call last)",
      "\u001b[0;32m<ipython-input-12-2fd48ead63d0>\u001b[0m in \u001b[0;36m<module>\u001b[0;34m\u001b[0m\n\u001b[1;32m     59\u001b[0m \u001b[0;31m#         print(\"reward\", timestep['r1'])\u001b[0m\u001b[0;34m\u001b[0m\u001b[0;34m\u001b[0m\u001b[0;34m\u001b[0m\u001b[0m\n\u001b[1;32m     60\u001b[0m \u001b[0;31m#         print(\"action\", timestep['a0'])\u001b[0m\u001b[0;34m\u001b[0m\u001b[0;34m\u001b[0m\u001b[0;34m\u001b[0m\u001b[0m\n\u001b[0;32m---> 61\u001b[0;31m         \u001b[0mplt\u001b[0m\u001b[0;34m.\u001b[0m\u001b[0mpause\u001b[0m\u001b[0;34m(\u001b[0m\u001b[0;36m0.3\u001b[0m\u001b[0;34m)\u001b[0m\u001b[0;34m\u001b[0m\u001b[0;34m\u001b[0m\u001b[0m\n\u001b[0m\u001b[1;32m     62\u001b[0m         \u001b[0mclear_output\u001b[0m\u001b[0;34m(\u001b[0m\u001b[0;32mTrue\u001b[0m\u001b[0;34m)\u001b[0m\u001b[0;34m\u001b[0m\u001b[0;34m\u001b[0m\u001b[0m\n",
      "\u001b[0;32m~/code/envs/april/lib/python3.6/site-packages/matplotlib/pyplot.py\u001b[0m in \u001b[0;36mpause\u001b[0;34m(interval)\u001b[0m\n\u001b[1;32m    294\u001b[0m             \u001b[0mcanvas\u001b[0m\u001b[0;34m.\u001b[0m\u001b[0mdraw_idle\u001b[0m\u001b[0;34m(\u001b[0m\u001b[0;34m)\u001b[0m\u001b[0;34m\u001b[0m\u001b[0;34m\u001b[0m\u001b[0m\n\u001b[1;32m    295\u001b[0m         \u001b[0mshow\u001b[0m\u001b[0;34m(\u001b[0m\u001b[0mblock\u001b[0m\u001b[0;34m=\u001b[0m\u001b[0;32mFalse\u001b[0m\u001b[0;34m)\u001b[0m\u001b[0;34m\u001b[0m\u001b[0;34m\u001b[0m\u001b[0m\n\u001b[0;32m--> 296\u001b[0;31m         \u001b[0mcanvas\u001b[0m\u001b[0;34m.\u001b[0m\u001b[0mstart_event_loop\u001b[0m\u001b[0;34m(\u001b[0m\u001b[0minterval\u001b[0m\u001b[0;34m)\u001b[0m\u001b[0;34m\u001b[0m\u001b[0;34m\u001b[0m\u001b[0m\n\u001b[0m\u001b[1;32m    297\u001b[0m     \u001b[0;32melse\u001b[0m\u001b[0;34m:\u001b[0m\u001b[0;34m\u001b[0m\u001b[0;34m\u001b[0m\u001b[0m\n\u001b[1;32m    298\u001b[0m         \u001b[0mtime\u001b[0m\u001b[0;34m.\u001b[0m\u001b[0msleep\u001b[0m\u001b[0;34m(\u001b[0m\u001b[0minterval\u001b[0m\u001b[0;34m)\u001b[0m\u001b[0;34m\u001b[0m\u001b[0;34m\u001b[0m\u001b[0m\n",
      "\u001b[0;32m~/code/envs/april/lib/python3.6/site-packages/matplotlib/backend_bases.py\u001b[0m in \u001b[0;36mstart_event_loop\u001b[0;34m(self, timeout)\u001b[0m\n\u001b[1;32m   2459\u001b[0m         \u001b[0;32mwhile\u001b[0m \u001b[0mself\u001b[0m\u001b[0;34m.\u001b[0m\u001b[0m_looping\u001b[0m \u001b[0;32mand\u001b[0m \u001b[0mcounter\u001b[0m \u001b[0;34m*\u001b[0m \u001b[0mtimestep\u001b[0m \u001b[0;34m<\u001b[0m \u001b[0mtimeout\u001b[0m\u001b[0;34m:\u001b[0m\u001b[0;34m\u001b[0m\u001b[0;34m\u001b[0m\u001b[0m\n\u001b[1;32m   2460\u001b[0m             \u001b[0mself\u001b[0m\u001b[0;34m.\u001b[0m\u001b[0mflush_events\u001b[0m\u001b[0;34m(\u001b[0m\u001b[0;34m)\u001b[0m\u001b[0;34m\u001b[0m\u001b[0;34m\u001b[0m\u001b[0m\n\u001b[0;32m-> 2461\u001b[0;31m             \u001b[0mtime\u001b[0m\u001b[0;34m.\u001b[0m\u001b[0msleep\u001b[0m\u001b[0;34m(\u001b[0m\u001b[0mtimestep\u001b[0m\u001b[0;34m)\u001b[0m\u001b[0;34m\u001b[0m\u001b[0;34m\u001b[0m\u001b[0m\n\u001b[0m\u001b[1;32m   2462\u001b[0m             \u001b[0mcounter\u001b[0m \u001b[0;34m+=\u001b[0m \u001b[0;36m1\u001b[0m\u001b[0;34m\u001b[0m\u001b[0;34m\u001b[0m\u001b[0m\n\u001b[1;32m   2463\u001b[0m \u001b[0;34m\u001b[0m\u001b[0m\n",
      "\u001b[0;31mKeyboardInterrupt\u001b[0m: "
     ]
    }
   ],
   "source": [
    "# replay record\n",
    "start = np.random.randint(1000)\n",
    "with torch.no_grad():\n",
    "    memory = None\n",
    "    for i in range(start, start + 5):\n",
    "        timestep = dataset_single[i]\n",
    "        obs = timestep[\"s1\"]\n",
    "        action = timestep[\"a0\"]\n",
    "        terminal = timestep['terminal']        \n",
    "        \n",
    "        plt.figure(figsize=(12, 12))\n",
    "        plt.subplot(131)\n",
    "        plt.imshow(obs.permute([2,1,0]))\n",
    "    #     obs = resize(obs, (64, 64))\n",
    "        plt.subplot(132)\n",
    "        recon, memory, rew = model(timestep[\"s0\"].unsqueeze(0).cuda(), action.unsqueeze(0), memory)\n",
    "        memory[terminal.squeeze()==1 ,...] = 0\n",
    "        \n",
    "        recon = recon.squeeze(0).cpu()\n",
    "        plt.imshow(recon.permute([2,1,0]).clamp(0, 1))\n",
    "\n",
    "        plt.subplot(133)\n",
    "        diff = (recon - obs)**2\n",
    "        plt.imshow(diff.permute([2,1,0]).clamp(0, 1))\n",
    "        \n",
    "        \n",
    "    #     plt.imshow(timestep[\"s0\"])\n",
    "#         print(\"reward\", timestep['r1'])\n",
    "#         print(\"action\", timestep['a0'])\n",
    "        plt.pause(0.3)\n",
    "        clear_output(True)\n",
    "\n",
    "    timestep = dataset_single[start+5]\n",
    "    pred = timestep[\"s0\"]\n",
    "    for i in range(start + 5, 1000):\n",
    "    \n",
    "        timestep = dataset_single[i]\n",
    "        obs = timestep[\"s1\"]\n",
    "        action = timestep[\"a0\"]\n",
    "        terminal = timestep['terminal']        \n",
    "        \n",
    "        plt.figure(figsize=(12, 12))\n",
    "        plt.subplot(131)\n",
    "        plt.imshow(obs.permute([2,1,0]))\n",
    "    #     obs = resize(obs, (64, 64))\n",
    "        plt.subplot(132)\n",
    "        pred, memory, rew = model(pred.unsqueeze(0).cuda().clamp(0, 1), action.unsqueeze(0), memory)\n",
    "        memory[terminal.squeeze()==1 ,...] = 0\n",
    "        \n",
    "        pred = pred.squeeze(0).cpu()\n",
    "        plt.imshow(pred.permute([2,1,0]).clamp(0, 1))\n",
    "\n",
    "        plt.subplot(133)\n",
    "        diff = (pred - obs)**2\n",
    "        plt.imshow(diff.permute([2,1,0]).clamp(0, 1))\n",
    "        \n",
    "        \n",
    "    #     plt.imshow(timestep[\"s0\"])\n",
    "#         print(\"reward\", timestep['r1'])\n",
    "#         print(\"action\", timestep['a0'])\n",
    "        plt.pause(0.3)\n",
    "        clear_output(True)\n"
   ]
  },
  {
   "cell_type": "code",
   "execution_count": 8,
   "metadata": {},
   "outputs": [
    {
     "data": {
      "text/plain": [
       "426693"
      ]
     },
     "execution_count": 8,
     "metadata": {},
     "output_type": "execute_result"
    }
   ],
   "source": [
    "from pred_learn.utils.various import get_n_params\n",
    "model = RecursiveConvTransition((3, 64, 64), action_space_n, 1, 1).cuda()\n",
    "get_n_params(model)"
   ]
  },
  {
   "cell_type": "code",
   "execution_count": 9,
   "metadata": {},
   "outputs": [],
   "source": [
    "optimizer = optim.Adam(model.parameters(), lr=0.001)"
   ]
  },
  {
   "cell_type": "code",
   "execution_count": 14,
   "metadata": {},
   "outputs": [
    {
     "data": {
      "image/png": "[encoded data removed]",
      "text/plain": [
       "<Figure size 432x288 with 1 Axes>"
      ]
     },
     "metadata": {},
     "output_type": "display_data"
    },
    {
     "name": "stderr",
     "output_type": "stream",
     "text": [
      "Traceback (most recent call last):\n",
      "  File \"/usr/lib/python3.6/multiprocessing/queues.py\", line 240, in _feed\n",
      "    send_bytes(obj)\n",
      "  File \"/usr/lib/python3.6/multiprocessing/connection.py\", line 200, in send_bytes\n",
      "    self._send_bytes(m[offset:offset + size])\n",
      "  File \"/usr/lib/python3.6/multiprocessing/connection.py\", line 404, in _send_bytes\n",
      "    self._send(header + buf)\n",
      "  File \"/usr/lib/python3.6/multiprocessing/connection.py\", line 368, in _send\n",
      "    n = write(self._handle, buf)\n",
      "BrokenPipeError: [Errno 32] Broken pipe\n",
      "Traceback (most recent call last):\n",
      "  File \"/usr/lib/python3.6/multiprocessing/queues.py\", line 240, in _feed\n",
      "    send_bytes(obj)\n",
      "  File \"/usr/lib/python3.6/multiprocessing/connection.py\", line 200, in send_bytes\n",
      "    self._send_bytes(m[offset:offset + size])\n",
      "  File \"/usr/lib/python3.6/multiprocessing/connection.py\", line 404, in _send_bytes\n",
      "    self._send(header + buf)\n",
      "  File \"/usr/lib/python3.6/multiprocessing/connection.py\", line 368, in _send\n",
      "    n = write(self._handle, buf)\n",
      "BrokenPipeError: [Errno 32] Broken pipe\n"
     ]
    },
    {
     "ename": "KeyboardInterrupt",
     "evalue": "",
     "output_type": "error",
     "traceback": [
      "\u001b[0;31m---------------------------------------------------------------------------\u001b[0m",
      "\u001b[0;31mKeyboardInterrupt\u001b[0m                         Traceback (most recent call last)",
      "\u001b[0;32m<ipython-input-14-c23eab54a519>\u001b[0m in \u001b[0;36m<module>\u001b[0;34m\u001b[0m\n\u001b[1;32m     36\u001b[0m         \u001b[0mlosses\u001b[0m \u001b[0;34m=\u001b[0m \u001b[0mlosses\u001b[0m\u001b[0;34m.\u001b[0m\u001b[0mmean\u001b[0m\u001b[0;34m(\u001b[0m\u001b[0;34m)\u001b[0m\u001b[0;34m\u001b[0m\u001b[0;34m\u001b[0m\u001b[0m\n\u001b[1;32m     37\u001b[0m         \u001b[0mloss_hist\u001b[0m\u001b[0;34m.\u001b[0m\u001b[0mappend\u001b[0m\u001b[0;34m(\u001b[0m\u001b[0mlosses\u001b[0m\u001b[0;34m.\u001b[0m\u001b[0mitem\u001b[0m\u001b[0;34m(\u001b[0m\u001b[0;34m)\u001b[0m\u001b[0;34m)\u001b[0m\u001b[0;34m\u001b[0m\u001b[0;34m\u001b[0m\u001b[0m\n\u001b[0;32m---> 38\u001b[0;31m         \u001b[0mlosses\u001b[0m\u001b[0;34m.\u001b[0m\u001b[0mbackward\u001b[0m\u001b[0;34m(\u001b[0m\u001b[0;34m)\u001b[0m\u001b[0;34m\u001b[0m\u001b[0;34m\u001b[0m\u001b[0m\n\u001b[0m\u001b[1;32m     39\u001b[0m         \u001b[0moptimizer\u001b[0m\u001b[0;34m.\u001b[0m\u001b[0mstep\u001b[0m\u001b[0;34m(\u001b[0m\u001b[0;34m)\u001b[0m\u001b[0;34m\u001b[0m\u001b[0;34m\u001b[0m\u001b[0m\n\u001b[1;32m     40\u001b[0m         \u001b[0;32mif\u001b[0m \u001b[0mbatch_idx\u001b[0m \u001b[0;34m%\u001b[0m \u001b[0;36m10\u001b[0m \u001b[0;34m==\u001b[0m \u001b[0;36m0\u001b[0m\u001b[0;34m:\u001b[0m\u001b[0;34m\u001b[0m\u001b[0;34m\u001b[0m\u001b[0m\n",
      "\u001b[0;32m~/code/envs/april/lib/python3.6/site-packages/torch/tensor.py\u001b[0m in \u001b[0;36mbackward\u001b[0;34m(self, gradient, retain_graph, create_graph)\u001b[0m\n\u001b[1;32m    100\u001b[0m                 \u001b[0mproducts\u001b[0m\u001b[0;34m.\u001b[0m \u001b[0mDefaults\u001b[0m \u001b[0mto\u001b[0m\u001b[0;31m \u001b[0m\u001b[0;31m`\u001b[0m\u001b[0;31m`\u001b[0m\u001b[0;32mFalse\u001b[0m\u001b[0;31m`\u001b[0m\u001b[0;31m`\u001b[0m\u001b[0;34m.\u001b[0m\u001b[0;34m\u001b[0m\u001b[0;34m\u001b[0m\u001b[0m\n\u001b[1;32m    101\u001b[0m         \"\"\"\n\u001b[0;32m--> 102\u001b[0;31m         \u001b[0mtorch\u001b[0m\u001b[0;34m.\u001b[0m\u001b[0mautograd\u001b[0m\u001b[0;34m.\u001b[0m\u001b[0mbackward\u001b[0m\u001b[0;34m(\u001b[0m\u001b[0mself\u001b[0m\u001b[0;34m,\u001b[0m \u001b[0mgradient\u001b[0m\u001b[0;34m,\u001b[0m \u001b[0mretain_graph\u001b[0m\u001b[0;34m,\u001b[0m \u001b[0mcreate_graph\u001b[0m\u001b[0;34m)\u001b[0m\u001b[0;34m\u001b[0m\u001b[0;34m\u001b[0m\u001b[0m\n\u001b[0m\u001b[1;32m    103\u001b[0m \u001b[0;34m\u001b[0m\u001b[0m\n\u001b[1;32m    104\u001b[0m     \u001b[0;32mdef\u001b[0m \u001b[0mregister_hook\u001b[0m\u001b[0;34m(\u001b[0m\u001b[0mself\u001b[0m\u001b[0;34m,\u001b[0m \u001b[0mhook\u001b[0m\u001b[0;34m)\u001b[0m\u001b[0;34m:\u001b[0m\u001b[0;34m\u001b[0m\u001b[0;34m\u001b[0m\u001b[0m\n",
      "\u001b[0;32m~/code/envs/april/lib/python3.6/site-packages/torch/autograd/__init__.py\u001b[0m in \u001b[0;36mbackward\u001b[0;34m(tensors, grad_tensors, retain_graph, create_graph, grad_variables)\u001b[0m\n\u001b[1;32m     88\u001b[0m     Variable._execution_engine.run_backward(\n\u001b[1;32m     89\u001b[0m         \u001b[0mtensors\u001b[0m\u001b[0;34m,\u001b[0m \u001b[0mgrad_tensors\u001b[0m\u001b[0;34m,\u001b[0m \u001b[0mretain_graph\u001b[0m\u001b[0;34m,\u001b[0m \u001b[0mcreate_graph\u001b[0m\u001b[0;34m,\u001b[0m\u001b[0;34m\u001b[0m\u001b[0;34m\u001b[0m\u001b[0m\n\u001b[0;32m---> 90\u001b[0;31m         allow_unreachable=True)  # allow_unreachable flag\n\u001b[0m\u001b[1;32m     91\u001b[0m \u001b[0;34m\u001b[0m\u001b[0m\n\u001b[1;32m     92\u001b[0m \u001b[0;34m\u001b[0m\u001b[0m\n",
      "\u001b[0;31mKeyboardInterrupt\u001b[0m: "
     ]
    }
   ],
   "source": [
    "reward_coef = 1\n",
    "num_updates = 1000\n",
    "\n",
    "loss_hist = []\n",
    "baseline = []\n",
    "for _ in range(200):\n",
    "    for batch_idx, data in enumerate(train_loader):\n",
    "        memory = None\n",
    "        losses = None\n",
    "        for i in range(dataset_train.series_length):\n",
    "            optimizer.zero_grad()\n",
    "\n",
    "            s0 = data['s0'][i].cuda()\n",
    "            s1 = data['s1'][i].cuda()\n",
    "            action = data['a0'][i].cuda()\n",
    "            r1 = data['r1'][i].cuda()\n",
    "            terminal = data['terminal'][i]\n",
    "\n",
    "\n",
    "            board, memory, rew = model(s0, action, memory)\n",
    "            memory[terminal.squeeze()==1 ,...] = 0\n",
    "\n",
    "            loss_state = ((board - s1)**2).mean() \n",
    "        #     loss_state = ((board - s1)**2).mean() \n",
    "\n",
    "            loss_reward = ((rew - r1)**2).mean()\n",
    "    #         loss = loss_state + reward_coef * loss_reward\n",
    "            loss = loss_state\n",
    "            if losses is None:\n",
    "                losses = loss\n",
    "            else:\n",
    "                losses += loss\n",
    "#             losses.append(loss)\n",
    "#             baseline.append(((s0 - s1)**2).mean())\n",
    "\n",
    "        losses = losses.mean()\n",
    "        loss_hist.append(losses.item())\n",
    "        losses.backward()\n",
    "        optimizer.step()\n",
    "        if batch_idx % 10 == 0:\n",
    "            clear_output()\n",
    "            plt.plot(loss_hist)\n",
    "#             plt.plot(baseline)\n",
    "            plt.pause(0.01)\n"
   ]
  },
  {
   "cell_type": "code",
   "execution_count": null,
   "metadata": {},
   "outputs": [],
   "source": [
    "reward_coef = 1\n",
    "num_updates = 1000\n",
    "\n",
    "loss_hist = []\n",
    "baseline = []\n",
    "for _ in range(200):\n",
    "    for batch_idx, data in enumerate(train_loader):\n",
    "        memory = None\n",
    "        losses = None\n",
    "        for i in range(dataset_train.series_length):\n",
    "            optimizer.zero_grad()\n",
    "\n",
    "            s0 = data['s0'][i].cuda()\n",
    "            s1 = data['s1'][i].cuda()\n",
    "            action = data['a0'][i].cuda()\n",
    "            r1 = data['r1'][i].cuda()\n",
    "            terminal = data['terminal'][i]\n",
    "\n",
    "\n",
    "            board, memory, rew = model(s0, action, memory)\n",
    "            memory[terminal.squeeze()==1 ,...] = 0\n",
    "\n",
    "            loss_state = ((board - s1)**2).mean() \n",
    "        #     loss_state = ((board - s1)**2).mean() \n",
    "\n",
    "            loss_reward = ((rew - r1)**2).mean()\n",
    "    #         loss = loss_state + reward_coef * loss_reward\n",
    "            loss = loss_state\n",
    "            loss.backward()\n",
    "            losses.append(loss)\n",
    "            baseline.append(((s0 - s1)**2).mean())\n",
    "\n",
    "            optimizer.step()\n",
    "            if batch_idx % 10 == 0:\n",
    "                clear_output()\n",
    "                plt.plot(losses)\n",
    "                plt.plot(baseline)\n",
    "                plt.pause(0.01)\n"
   ]
  },
  {
   "cell_type": "code",
   "execution_count": null,
   "metadata": {},
   "outputs": [],
   "source": [
    "rew"
   ]
  },
  {
   "cell_type": "code",
   "execution_count": null,
   "metadata": {},
   "outputs": [],
   "source": [
    "i=0"
   ]
  },
  {
   "cell_type": "code",
   "execution_count": null,
   "metadata": {},
   "outputs": [],
   "source": [
    "action.size()\n",
    "s0.size()"
   ]
  },
  {
   "cell_type": "code",
   "execution_count": null,
   "metadata": {},
   "outputs": [],
   "source": [
    "onehot_actions = torch.zeros(s0.size(0), action.size(1), s0.size(2), s0.size(3))\n",
    "\n",
    "onehot_actions[range(s0.size(0)), action.argmax(1).view(-1), ...] = 1\n"
   ]
  },
  {
   "cell_type": "code",
   "execution_count": null,
   "metadata": {},
   "outputs": [],
   "source": [
    "action.argmax(1)"
   ]
  }
 ],
 "metadata": {
  "kernelspec": {
   "display_name": "Python 3",
   "language": "python",
   "name": "python3"
  },
  "language_info": {
   "codemirror_mode": {
    "name": "ipython",
    "version": 3
   },
   "file_extension": ".py",
   "mimetype": "text/x-python",
   "name": "python",
   "nbconvert_exporter": "python",
   "pygments_lexer": "ipython3",
   "version": "3.6.5"
  },
  "latex_envs": {
   "LaTeX_envs_menu_present": true,
   "autocomplete": true,
   "bibliofile": "biblio.bib",
   "cite_by": "apalike",
   "current_citInitial": 1,
   "eqLabelWithNumbers": true,
   "eqNumInitial": 1,
   "hotkeys": {
    "equation": "Ctrl-E",
    "itemize": "Ctrl-I"
   },
   "labels_anchors": false,
   "latex_user_defs": false,
   "report_style_numbering": false,
   "user_envs_cfg": false
  }
 },
 "nbformat": 4,
 "nbformat_minor": 2
}
