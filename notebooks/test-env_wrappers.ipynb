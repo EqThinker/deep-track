{
 "cells": [
  {
   "cell_type": "code",
<<<<<<< HEAD
   "execution_count": 6,
=======
   "execution_count": 1,
>>>>>>> origin/master
   "metadata": {},
   "outputs": [],
   "source": [
    "import pred_learn.envs as envs"
   ]
  },
  {
   "cell_type": "code",
<<<<<<< HEAD
   "execution_count": 7,
=======
   "execution_count": 2,
>>>>>>> origin/master
   "metadata": {},
   "outputs": [],
   "source": [
    "%matplotlib inline\n",
    "import numpy as np\n",
    "import matplotlib.pyplot as plt\n",
    "from IPython.display import clear_output"
   ]
  },
  {
   "cell_type": "code",
<<<<<<< HEAD
   "execution_count": 8,
=======
   "execution_count": 3,
>>>>>>> origin/master
   "metadata": {},
   "outputs": [
    {
     "data": {
      "text/plain": [
<<<<<<< HEAD
       "<Display cmd_param=['Xvfb', '-br', '-nolisten', 'tcp', '-screen', '0', '64x64x24', ':1241'] cmd=['Xvfb', '-br', '-nolisten', 'tcp', '-screen', '0', '64x64x24', ':1241'] oserror=None return_code=None stdout=\"None\" stderr=\"None\" timeout_happened=False>"
      ]
     },
     "execution_count": 8,
=======
       "<Display cmd_param=['Xvfb', '-br', '-nolisten', 'tcp', '-screen', '0', '64x64x24', ':1237'] cmd=['Xvfb', '-br', '-nolisten', 'tcp', '-screen', '0', '64x64x24', ':1237'] oserror=None return_code=None stdout=\"None\" stderr=\"None\" timeout_happened=False>"
      ]
     },
     "execution_count": 3,
>>>>>>> origin/master
     "metadata": {},
     "output_type": "execute_result"
    }
   ],
   "source": [
    "from pyvirtualdisplay import Display\n",
    "display = Display(visible=0, size=(64, 64))\n",
    "display.start()"
   ]
  },
  {
   "cell_type": "code",
<<<<<<< HEAD
   "execution_count": 9,
=======
   "execution_count": null,
>>>>>>> origin/master
   "metadata": {},
   "outputs": [
    {
     "data": {
<<<<<<< HEAD
      "image/png": "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\n",
=======
      "image/png": "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\n",
>>>>>>> origin/master
      "text/plain": [
       "<Figure size 432x288 with 1 Axes>"
      ]
     },
     "metadata": {
      "needs_background": "light"
     },
     "output_type": "display_data"
    },
    {
     "name": "stdout",
     "output_type": "stream",
     "text": [
<<<<<<< HEAD
      "env: Pendulum-v0\n",
      "reward: -7.951905024281673\n",
      "action: [-1.8776094]\n"
     ]
    },
    {
     "ename": "KeyboardInterrupt",
     "evalue": "",
     "output_type": "error",
     "traceback": [
      "\u001b[0;31m---------------------------------------------------------------------------\u001b[0m",
      "\u001b[0;31mKeyboardInterrupt\u001b[0m                         Traceback (most recent call last)",
      "\u001b[0;32m<ipython-input-9-ce5f431c42f9>\u001b[0m in \u001b[0;36m<module>\u001b[0;34m\u001b[0m\n\u001b[1;32m     20\u001b[0m         \u001b[0mprint\u001b[0m\u001b[0;34m(\u001b[0m\u001b[0;34m\"reward:\"\u001b[0m\u001b[0;34m,\u001b[0m \u001b[0mrew\u001b[0m\u001b[0;34m)\u001b[0m\u001b[0;34m\u001b[0m\u001b[0;34m\u001b[0m\u001b[0m\n\u001b[1;32m     21\u001b[0m         \u001b[0mprint\u001b[0m\u001b[0;34m(\u001b[0m\u001b[0;34m\"action:\"\u001b[0m\u001b[0;34m,\u001b[0m \u001b[0maction\u001b[0m\u001b[0;34m)\u001b[0m\u001b[0;34m\u001b[0m\u001b[0;34m\u001b[0m\u001b[0m\n\u001b[0;32m---> 22\u001b[0;31m         \u001b[0mplt\u001b[0m\u001b[0;34m.\u001b[0m\u001b[0mpause\u001b[0m\u001b[0;34m(\u001b[0m\u001b[0;36m0.02\u001b[0m\u001b[0;34m)\u001b[0m\u001b[0;34m\u001b[0m\u001b[0;34m\u001b[0m\u001b[0m\n\u001b[0m\u001b[1;32m     23\u001b[0m \u001b[0;34m\u001b[0m\u001b[0m\n\u001b[1;32m     24\u001b[0m \u001b[0;34m\u001b[0m\u001b[0m\n",
      "\u001b[0;32m~/code/envs/flexi/lib/python3.6/site-packages/matplotlib/pyplot.py\u001b[0m in \u001b[0;36mpause\u001b[0;34m(interval)\u001b[0m\n\u001b[1;32m    304\u001b[0m         \u001b[0mcanvas\u001b[0m\u001b[0;34m.\u001b[0m\u001b[0mstart_event_loop\u001b[0m\u001b[0;34m(\u001b[0m\u001b[0minterval\u001b[0m\u001b[0;34m)\u001b[0m\u001b[0;34m\u001b[0m\u001b[0;34m\u001b[0m\u001b[0m\n\u001b[1;32m    305\u001b[0m     \u001b[0;32melse\u001b[0m\u001b[0;34m:\u001b[0m\u001b[0;34m\u001b[0m\u001b[0;34m\u001b[0m\u001b[0m\n\u001b[0;32m--> 306\u001b[0;31m         \u001b[0mtime\u001b[0m\u001b[0;34m.\u001b[0m\u001b[0msleep\u001b[0m\u001b[0;34m(\u001b[0m\u001b[0minterval\u001b[0m\u001b[0;34m)\u001b[0m\u001b[0;34m\u001b[0m\u001b[0;34m\u001b[0m\u001b[0m\n\u001b[0m\u001b[1;32m    307\u001b[0m \u001b[0;34m\u001b[0m\u001b[0m\n\u001b[1;32m    308\u001b[0m \u001b[0;34m\u001b[0m\u001b[0m\n",
      "\u001b[0;31mKeyboardInterrupt\u001b[0m: "
=======
      "env: Walker2d-v2\n",
      "reward: 0.9370611664715193\n",
      "action: [ 0.08199769  0.31651837  0.39261177 -0.93008083  0.8399128   0.9006024 ]\n"
     ]
    },
    {
     "name": "stderr",
     "output_type": "stream",
     "text": [
      "WARNING: Logging before flag parsing goes to stderr.\n",
      "F0707 18:09:33.257267 140366132729664 core.py:90] Invalid activation key\n"
>>>>>>> origin/master
     ]
    }
   ],
   "source": [
    "record = []\n",
    "seed = 0\n",
<<<<<<< HEAD
    "# for env_id in envs.ALL_ENVS:\n",
    "# for env_id in envs.CONTROL_SUITE_ENVS:\n",
    "for env_id in envs.GYM_ENVS:\n",
=======
    "for env_id in envs.ALL_ENVS:\n",
    "# for env_id in envs.CONTROL_SUITE_ENVS:\n",
    "# for env_id in envs.GYM_ENVS:\n",
>>>>>>> origin/master
    "# for env_id in envs.GAME_ENVS:\n",
    "    env = envs.make_env(env_id, 0)\n",
    "    obs = env.reset()\n",
    "    for i in range(1000):\n",
    "        timestep = {}\n",
    "        timestep[\"s0\"] = np.copy(obs)\n",
    "        action = env.sample_random_action()\n",
    "        timestep[\"a0\"] = np.copy(action)\n",
    "\n",
    "        obs, rew, done, info = env.step(action)\n",
    "        clear_output(True)\n",
    "        plt.imshow(obs)\n",
    "        plt.pause(0.02)      \n",
    "        print(\"env:\", env_id)\n",
    "        print(\"reward:\", rew)\n",
    "        print(\"action:\", action)\n",
    "        plt.pause(0.02)        \n",
    "            \n",
    "        \n",
    "        timestep[\"r1\"] = rew\n",
    "        timestep[\"terminal\"] = done\n",
    "        record.append(timestep)\n",
    "\n",
    "        if done:\n",
    "            break\n",
    "            \n",
    "    env.close()"
   ]
<<<<<<< HEAD
  },
  {
   "cell_type": "code",
   "execution_count": 15,
   "metadata": {},
   "outputs": [
    {
     "data": {
      "text/plain": [
       "<gym.envs.classic_control.pendulum.PendulumEnv at 0x7f38252f51d0>"
      ]
     },
     "execution_count": 15,
     "metadata": {},
     "output_type": "execute_result"
    }
   ],
   "source": [
    "env._env.env.env.env"
   ]
  },
  {
   "cell_type": "code",
   "execution_count": null,
   "metadata": {},
   "outputs": [],
   "source": []
=======
>>>>>>> origin/master
  }
 ],
 "metadata": {
  "kernelspec": {
   "display_name": "Python 3",
   "language": "python",
   "name": "python3"
  },
  "language_info": {
   "codemirror_mode": {
    "name": "ipython",
    "version": 3
   },
   "file_extension": ".py",
   "mimetype": "text/x-python",
   "name": "python",
   "nbconvert_exporter": "python",
   "pygments_lexer": "ipython3",
   "version": "3.6.7"
  }
 },
 "nbformat": 4,
 "nbformat_minor": 2
}
