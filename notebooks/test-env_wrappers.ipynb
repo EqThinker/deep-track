{
 "cells": [
  {
   "cell_type": "code",
   "execution_count": 1,
   "metadata": {},
   "outputs": [],
   "source": [
    "import pred_learn.envs as envs"
   ]
  },
  {
   "cell_type": "code",
   "execution_count": 2,
   "metadata": {},
   "outputs": [],
   "source": [
    "%matplotlib inline\n",
    "import numpy as np\n",
    "import matplotlib.pyplot as plt\n",
    "from IPython.display import clear_output"
   ]
  },
  {
   "cell_type": "code",
   "execution_count": 3,
   "metadata": {},
   "outputs": [
    {
     "data": {
      "text/plain": [
       "<Display cmd_param=['Xvfb', '-br', '-nolisten', 'tcp', '-screen', '0', '64x64x24', ':1237'] cmd=['Xvfb', '-br', '-nolisten', 'tcp', '-screen', '0', '64x64x24', ':1237'] oserror=None return_code=None stdout=\"None\" stderr=\"None\" timeout_happened=False>"
      ]
     },
     "execution_count": 3,
     "metadata": {},
     "output_type": "execute_result"
    }
   ],
   "source": [
    "from pyvirtualdisplay import Display\n",
    "display = Display(visible=0, size=(64, 64))\n",
    "display.start()"
   ]
  },
  {
   "cell_type": "code",
   "execution_count": null,
   "metadata": {},
   "outputs": [
    {
     "data": {
      "image/png": "[encoded data removed]",
      "text/plain": [
       "<Figure size 432x288 with 1 Axes>"
      ]
     },
     "metadata": {
      "needs_background": "light"
     },
     "output_type": "display_data"
    },
    {
     "name": "stdout",
     "output_type": "stream",
     "text": [
      "env: Walker2d-v2\n",
      "reward: 0.9370611664715193\n",
      "action: [ 0.08199769  0.31651837  0.39261177 -0.93008083  0.8399128   0.9006024 ]\n"
     ]
    },
    {
     "name": "stderr",
     "output_type": "stream",
     "text": [
      "WARNING: Logging before flag parsing goes to stderr.\n",
      "F0707 18:09:33.257267 140366132729664 core.py:90] Invalid activation key\n"
     ]
    }
   ],
   "source": [
    "record = []\n",
    "seed = 0\n",
    "for env_id in envs.ALL_ENVS:\n",
    "# for env_id in envs.CONTROL_SUITE_ENVS:\n",
    "# for env_id in envs.GYM_ENVS:\n",
    "# for env_id in envs.GAME_ENVS:\n",
    "    env = envs.make_env(env_id, 0)\n",
    "    obs = env.reset()\n",
    "    for i in range(1000):\n",
    "        timestep = {}\n",
    "        timestep[\"s0\"] = np.copy(obs)\n",
    "        action = env.sample_random_action()\n",
    "        timestep[\"a0\"] = np.copy(action)\n",
    "\n",
    "        obs, rew, done, info = env.step(action)\n",
    "        clear_output(True)\n",
    "        plt.imshow(obs)\n",
    "        plt.pause(0.02)      \n",
    "        print(\"env:\", env_id)\n",
    "        print(\"reward:\", rew)\n",
    "        print(\"action:\", action)\n",
    "        plt.pause(0.02)        \n",
    "            \n",
    "        \n",
    "        timestep[\"r1\"] = rew\n",
    "        timestep[\"terminal\"] = done\n",
    "        record.append(timestep)\n",
    "\n",
    "        if done:\n",
    "            break\n",
    "            \n",
    "    env.close()"
   ]
  }
 ],
 "metadata": {
  "kernelspec": {
   "display_name": "Python 3",
   "language": "python",
   "name": "python3"
  },
  "language_info": {
   "codemirror_mode": {
    "name": "ipython",
    "version": 3
   },
   "file_extension": ".py",
   "mimetype": "text/x-python",
   "name": "python",
   "nbconvert_exporter": "python",
   "pygments_lexer": "ipython3",
   "version": "3.6.7"
  }
 },
 "nbformat": 4,
 "nbformat_minor": 2
}
